{
  "cells": [
    {
      "cell_type": "markdown",
      "id": "ebfcb8dd-53d0-4542-a35f-812fe48d726d",
      "metadata": {},
      "source": [
        "##### Pranjal Keshav Patil\n",
        "##### Roll No.45\n"
      ]
    },
    {
      "cell_type": "markdown",
      "id": "cb294cc3-6da2-497b-99a0-8a2ab0ae61ba",
      "metadata": {},
      "source": [
        "###### 1. Create a simple program to manage products in a store using Python. Each product will have\n",
        "###### a name, price, and stock quantity. The program should allow adding products, updating stock,\n",
        "###### and viewing product details.\n",
        "#### Class Definition\n",
        "##### Create a Product class with the following:\n",
        "#### • Attributes:\n",
        "##### – name: The name of the product (string).\n",
        "##### – price: The price of the product (float).\n",
        "##### – stock: The quantity of the product in stock (integer).\n",
        "#### • Methods:\n",
        "##### – update_stock(quantity): Adds or removes the specified quantity from the product stock.\n",
        "##### – __str__: Returns a string in the format: \"Product: <name>, Price: $<price>, Stock: <stock>\".\n",
        "\n",
        "#### Interactive Program\n",
        "##### Create a simple program that:\n",
        "###### 1. Adds a new product.\n",
        "###### 2. Updates the stock of an existing product.\n",
        "###### 3. Displays the details of a product.\n",
        "###### 4. Exits the program.\n",
        "\n",
        "#### Example Output\n",
        "##### Step 1: Adding a Product\n",
        "###### Enter product name: Laptop \n",
        "###### Enter product price: 999.99 \n",
        "###### Enter product stock: 10\n",
        "###### Product added successfully!\n",
        "##### Step 2: Updating Stock\n",
        "###### Enter product name to update: Laptop \n",
        "###### Enter quantity to add/remove: -2 \n",
        "###### Stock updated successfully!\n",
        "##### Step 3: Viewing Product Details\n",
        "###### Enter product name: Laptop \n",
        "###### Product: Laptop, Price: $999.99, Stock: 8\n",
        "##### Step 4: Exiting the Program\n",
        "###### Exiting the system. Goodbye!"
      ]
    },
    {
      "cell_type": "code",
      "execution_count": null,
      "id": "6b044b17-f022-4c26-aeaa-608129ad8aaf",
      "metadata": {
        "trusted": true
      },
      "outputs": [
        {
          "name": "stdout",
          "output_type": "stream",
          "text": [
            "\n",
            "Store Management System:\n",
            "1. Add Product\n",
            "2. Update Stock\n",
            "3. View Product Details\n",
            "4. Exit\n"
          ]
        }
      ],
      "source": [
        "class Product:\n",
        "    def __init__(self, name, price, stock):\n",
        "        \"\"\"Initializes the product with its name, price, and stock quantity.\"\"\"\n",
        "        self.name = name\n",
        "        self.price = price\n",
        "        self.stock = stock\n",
        "\n",
        "    def update_stock(self, quantity):\n",
        "        \"\"\"Updates the stock quantity by adding or removing specified quantity.\"\"\"\n",
        "        self.stock += quantity\n",
        "        if self.stock < 0:\n",
        "            self.stock = 0  \n",
        "    def __str__(self):\n",
        "        \"\"\"Returns a string representation of the product details.\"\"\"\n",
        "        return f\"Product: {self.name}, Price: ${self.price:.2f}, Stock: {self.stock}\"\n",
        "\n",
        "store_inventory = {}\n",
        "\n",
        "def add_product(name, price, stock):\n",
        "    new_product = Product(name, price, stock)\n",
        "    store_inventory[name] = new_product\n",
        "    print(\"Product added successfully!\")\n",
        "\n",
        "def update_stock(name, quantity):\n",
        "    if name in store_inventory:\n",
        "        product = store_inventory[name]\n",
        "        product.update_stock(quantity)\n",
        "        print(\"Stock updated successfully!\")\n",
        "    else:\n",
        "        print(f\"Product {name} not found.\")\n",
        "\n",
        "def view_product(name):\n",
        "    if name in store_inventory:\n",
        "        print(store_inventory[name])\n",
        "    else:\n",
        "        print(f\"Product {name} not found.\")\n",
        "\n",
        "def main():\n",
        "    while True:\n",
        "        print(\"\\nStore Management System:\")\n",
        "        print(\"1. Add Product\")\n",
        "        print(\"2. Update Stock\")\n",
        "        print(\"3. View Product Details\")\n",
        "        print(\"4. Exit\")\n",
        "        \n",
        "        choice = input(\"Choose an option: \")\n",
        "\n",
        "        if choice == \"1\":\n",
        "            name = input(\"Enter product name: \")\n",
        "            price = float(input(\"Enter product price: \"))\n",
        "            stock = int(input(\"Enter product stock: \"))\n",
        "            add_product(name, price, stock)\n",
        "\n",
        "        elif choice == \"2\":\n",
        "            name = input(\"Enter product name to update: \")\n",
        "            quantity = int(input(\"Enter quantity to add/remove: \"))\n",
        "            update_stock(name, quantity)\n",
        "\n",
        "        elif choice == \"3\":\n",
        "            name = input(\"Enter product name to view details: \")\n",
        "            view_product(name)\n",
        "\n",
        "        elif choice == \"4\":\n",
        "            print(\"Exiting the system. Goodbye!\")\n",
        "            break\n",
        "\n",
        "        else:\n",
        "            print(\"Invalid option. Please try again.\")\n",
        "main()"
      ]
    }
  ],
  "metadata": {
    "kernelspec": {
      "display_name": "Python 3",
      "language": "python",
      "name": "python3"
    },
    "language_info": {
      "codemirror_mode": {
        "name": "ipython",
        "version": 3
      },
      "file_extension": ".py",
      "mimetype": "text/x-python",
      "name": "python",
      "nbconvert_exporter": "python",
      "pygments_lexer": "ipython3",
      "version": "3.11.4"
    }
  },
  "nbformat": 4,
  "nbformat_minor": 5
}
