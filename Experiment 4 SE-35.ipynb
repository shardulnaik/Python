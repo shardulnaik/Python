{
  "cells": [
    {
      "cell_type": "markdown",
      "id": "4fb56594-5f75-4a6d-9eda-6b5ce3ba2a6a",
      "metadata": {},
      "source": [
        "#### Pranjal Keshav Patil \n",
        "#### Roll No. = 45\n",
        "\n",
        "##### The below scipt uses os module to perform the required function. Utilize the pathlib module to perform the same functionality."
      ]
    },
    {
      "cell_type": "code",
      "execution_count": 4,
      "id": "6ddf478b-97db-47b9-a17e-51db2b6da3f4",
      "metadata": {
        "trusted": true
      },
      "outputs": [
        {
          "name": "stdout",
          "output_type": "stream",
          "text": [
            "Files in the current directory:\n",
            "Intro.ipynb\n",
            "Untitled.ipynb\n",
            "Lorenz.ipynb\n",
            "sqlite.ipynb\n"
          ]
        }
      ],
      "source": [
        "import os\n",
        "\n",
        "files = [f for f in os.listdir('.') if os.path.isfile(f)]\n",
        "\n",
        "print(\"Files in the current directory:\")\n",
        "for file in files:\n",
        "    print(file)\n"
      ]
    },
    {
      "cell_type": "code",
      "execution_count": 3,
      "id": "cd966019-09c4-438d-9b4f-a11152b6bd00",
      "metadata": {
        "trusted": true
      },
      "outputs": [
        {
          "name": "stdout",
          "output_type": "stream",
          "text": [
            "Files in the current directory:\n",
            "Intro.ipynb\n",
            "Untitled.ipynb\n",
            "Lorenz.ipynb\n",
            "sqlite.ipynb\n"
          ]
        }
      ],
      "source": [
        "from pathlib import Path\n",
        "\n",
        "current_dir = Path('.')\n",
        "\n",
        "files = [f for f in current_dir.iterdir() if f.is_file()]\n",
        "\n",
        "print(\"Files in the current directory:\")\n",
        "for file in files:\n",
        "    print(file.name)\n"
      ]
    },
    {
      "cell_type": "code",
      "execution_count": null,
      "id": "36931a37-b2ce-4295-bb3f-8d086aaef4c2",
      "metadata": {
        "trusted": true
      },
      "outputs": [],
      "source": []
    }
  ],
  "metadata": {
    "kernelspec": {
      "display_name": "Python (Pyodide)",
      "language": "python",
      "name": "python"
    },
    "language_info": {
      "codemirror_mode": {
        "name": "python",
        "version": 3
      },
      "file_extension": ".py",
      "mimetype": "text/x-python",
      "name": "python",
      "nbconvert_exporter": "python",
      "pygments_lexer": "ipython3",
      "version": "3.8"
    }
  },
  "nbformat": 4,
  "nbformat_minor": 5
}
