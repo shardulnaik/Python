{
  "cells": [
    {
      "cell_type": "markdown",
      "metadata": {
        "id": "XteulamIOO29"
      },
      "source": [
        "### NAME : SHARDUL V. NAIK\n",
        "\n",
        "### Roll No. = 35\n",
        "### BATCH : S2\n",
        "\n"
      ]
    },
    {
      "cell_type": "markdown",
      "metadata": {
        "id": "yvjgOjBmOuC8"
      },
      "source": [
        "### *Stack*"
      ]
    },
    {
      "cell_type": "code",
      "execution_count": 2,
      "metadata": {
        "colab": {
          "base_uri": "https://localhost:8080/"
        },
        "id": "ahKJmWwHPAHd",
        "outputId": "53796538-c6f4-4c6d-aeeb-14702215fb24"
      },
      "outputs": [
        {
          "name": "stdout",
          "output_type": "stream",
          "text": [
            "Initial Stack\n",
            "['a', 'b', 'c']\n"
          ]
        }
      ],
      "source": [
        "stack = list ()\n",
        "\n",
        "# Append Operation\n",
        "stack.append ('a')\n",
        "stack.append ('b')\n",
        "stack.append ('c')\n",
        "print ('Initial Stack')\n",
        "print (stack)"
      ]
    },
    {
      "cell_type": "code",
      "execution_count": 3,
      "metadata": {
        "colab": {
          "base_uri": "https://localhost:8080/"
        },
        "id": "-R673gsVPDuU",
        "outputId": "8ac69b0d-f16e-4998-92f2-6133b404b555"
      },
      "outputs": [
        {
          "name": "stdout",
          "output_type": "stream",
          "text": [
            "c\n",
            "b\n",
            "a\n",
            "[]\n"
          ]
        }
      ],
      "source": [
        "# Pop Operation\n",
        "print (stack.pop ())\n",
        "print (stack.pop ())\n",
        "print (stack.pop ())\n",
        "print (stack)"
      ]
    },
    {
      "cell_type": "markdown",
      "metadata": {
        "id": "zKIu10EQPQi0"
      },
      "source": [
        "Given a valid parentheses string stringInput, return the nesting depth of stringInput.\n",
        "The nesting depth is the maximum number of nested parentheses.\n",
        "\n",
        "Example 1:\n",
        "Input: s = \"(1+(2*3)+((8)/4))+1\"\n",
        "Output: 3\n",
        "Explanation:\n",
        "Digit 8 is inside of 3 nested parentheses in the string.\n",
        "\n",
        "Example 2:\n",
        "Input: s = \"(1)+((2))+(((3)))\"\n",
        "Output: 3\n",
        "Explanation:\n",
        "Digit 3 is inside of 3 nested parentheses in the string.\n",
        "\n",
        "Example 3:\n",
        "Input: s = \"()(())((()()))\"\n",
        "Output: 3\n"
      ]
    },
    {
      "cell_type": "code",
      "execution_count": 4,
      "metadata": {
        "colab": {
          "base_uri": "https://localhost:8080/"
        },
        "id": "w1s7_i5KPORN",
        "outputId": "e366dbf6-04c0-440b-80af-0f23b8cc9121"
      },
      "outputs": [
        {
          "name": "stdout",
          "output_type": "stream",
          "text": [
            "Input: (1+(2*3)+((8)/4))+1\n",
            "Output: 3\n",
            "\n",
            "Input: (1)+((2))+(((3)))\n",
            "Output: 3\n",
            "\n",
            "Input: ()(())((()()))\n",
            "Output: 3\n"
          ]
        }
      ],
      "source": [
        "class StackDepth:\n",
        "    def maximumDepth(self, stringInput: str) -> int:\n",
        "        current_depth = 0\n",
        "        max_depth = 0\n",
        "\n",
        "        for char in stringInput:\n",
        "            if char == '(':\n",
        "                current_depth += 1\n",
        "                max_depth = max(max_depth, current_depth)\n",
        "            elif char == ')':\n",
        "                current_depth -= 1\n",
        "\n",
        "        return max_depth\n",
        "\n",
        "\n",
        "stack_depth = StackDepth()\n",
        "\n",
        "input_1 = \"(1+(2*3)+((8)/4))+1\"\n",
        "print(f\"Input: {input_1}\")\n",
        "print(f\"Output: {stack_depth.maximumDepth(input_1)}\")\n",
        "\n",
        "input_2 = \"(1)+((2))+(((3)))\"\n",
        "print(f\"\\nInput: {input_2}\")\n",
        "print(f\"Output: {stack_depth.maximumDepth(input_2)}\")\n",
        "\n",
        "input_3 = \"()(())((()()))\"\n",
        "print(f\"\\nInput: {input_3}\")\n",
        "print(f\"Output: {stack_depth.maximumDepth(input_3)}\")"
      ]
    },
    {
      "cell_type": "code",
      "execution_count": 1,
      "metadata": {
        "colab": {
          "base_uri": "https://localhost:8080/"
        },
        "id": "DQZpO-1FN4TB",
        "outputId": "b3b5f922-0802-4cf4-e35b-a2de27c0db06"
      },
      "outputs": [
        {
          "name": "stdout",
          "output_type": "stream",
          "text": [
            "Please enter a valid parentheses string: (1+(2*3)+((8)/4))+1\n",
            "Maximum nesting depth: 3\n"
          ]
        }
      ],
      "source": [
        "class StackDepth:\n",
        "    def maximumDepth(self, stringInput: str) -> int:\n",
        "        current_depth = 0\n",
        "        max_depth = 0\n",
        "\n",
        "        for char in stringInput:\n",
        "            if char == '(':\n",
        "                current_depth += 1\n",
        "                max_depth = max(max_depth, current_depth)\n",
        "            elif char == ')':\n",
        "                current_depth -= 1\n",
        "\n",
        "        return max_depth\n",
        "\n",
        "\n",
        "stack_depth = StackDepth()\n",
        "\n",
        "user_input = input(\"Please enter a valid parentheses string: \")\n",
        "\n",
        "print(f\"Maximum nesting depth: {stack_depth.maximumDepth(user_input)}\")\n"
      ]
    }
  ],
  "metadata": {
    "colab": {
      "provenance": []
    },
    "kernelspec": {
      "display_name": "Python 3",
      "name": "python3"
    },
    "language_info": {
      "name": "python"
    }
  },
  "nbformat": 4,
  "nbformat_minor": 0
}
