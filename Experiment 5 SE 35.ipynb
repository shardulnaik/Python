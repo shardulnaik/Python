{
 "cells": [
  {
   "cell_type": "code",
   "execution_count": null,
   "id": "8115064d-88e3-4a66-85dd-c7b1205cf0f2",
   "metadata": {},
   "outputs": [],
   "source": []
  }
 ],
 "metadata": {
  "kernelspec": {
   "display_name": "",
   "name": ""
  },
  "language_info": {
   "name": ""
  }
 },
 "nbformat": 4,
 "nbformat_minor": 5
}
