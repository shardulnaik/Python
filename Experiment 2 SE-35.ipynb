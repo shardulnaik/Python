{
  "metadata": {
    "kernelspec": {
      "name": "python",
      "display_name": "Python (Pyodide)",
      "language": "python"
    },
    "language_info": {
      "codemirror_mode": {
        "name": "python",
        "version": 3
      },
      "file_extension": ".py",
      "mimetype": "text/x-python",
      "name": "python",
      "nbconvert_exporter": "python",
      "pygments_lexer": "ipython3",
      "version": "3.8"
    }
  },
  "nbformat_minor": 5,
  "nbformat": 4,
  "cells": [
    {
      "id": "88c752b1-e49b-4917-b72e-041009416ee3",
      "cell_type": "code",
      "source": "class Employee:\n    def __init__ (\n            self,\n            designation: str = 'Developer',\n            frontend: bool = False,\n            backend: bool = False\n    ):\n        self.designation = designation\n        self.frontend = frontend\n        self.backend = backend\n\n    def __repr__(self):\n        return '{} (Frontend: {}, Backend: {})'.format(self.designation, self.frontend, self.backend)\n    \n    def verifier(self):\n        if self.frontend and self.backend:\n            return \"Fullstack\"\n        elif self.frontend:\n            return \"Frontend\"\n        elif self.backend:\n            return \"Backend\"\n        else:\n            return \"Not a developer\"\n\nif __name__ == '__main__':\n    firstEmployee = Employee(frontend=True, backend=False)\n    print(firstEmployee.verifier())  # Expected output: \"Frontend\"\n\n    secondEmployee = Employee(frontend=True, backend=True)\n    print(secondEmployee.verifier())  # Expected output: \"Fullstack\"\n\n    thirdEmployee = Employee(frontend=False, backend=False)\n    print(thirdEmployee.verifier())  # Expected output: \"Not a developer\"\n",
      "metadata": {
        "trusted": true
      },
      "outputs": [
        {
          "name": "stdout",
          "output_type": "stream",
          "text": "Frontend\nFullstack\nNot a developer\n"
        }
      ],
      "execution_count": 1
    },
    {
      "id": "9c780d37-a643-43bd-bc89-0855efe5520e",
      "cell_type": "code",
      "source": "",
      "metadata": {
        "trusted": true
      },
      "outputs": [],
      "execution_count": null
    }
  ]
}